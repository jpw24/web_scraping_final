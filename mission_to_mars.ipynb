{
 "cells": [
  {
   "cell_type": "code",
   "execution_count": 1,
   "metadata": {},
   "outputs": [
    {
     "name": "stdout",
     "output_type": "stream",
     "text": [
      "Collecting Flask-PyMongo\n",
      "  Downloading https://files.pythonhosted.org/packages/d5/c8/22ddacfe05893884dceef5b9ecfa683f947ba155bd63cd9d841aea29b7b7/Flask_PyMongo-2.2.0-py2.py3-none-any.whl\n",
      "Requirement already satisfied: PyMongo>=3.0 in c:\\users\\jawhite\\appdata\\local\\continuum\\anaconda3\\lib\\site-packages (from Flask-PyMongo) (3.7.2)\n",
      "Requirement already satisfied: Flask>=0.11 in c:\\users\\jawhite\\appdata\\local\\continuum\\anaconda3\\lib\\site-packages (from Flask-PyMongo) (1.0.2)\n",
      "Requirement already satisfied: Jinja2>=2.10 in c:\\users\\jawhite\\appdata\\local\\continuum\\anaconda3\\lib\\site-packages (from Flask>=0.11->Flask-PyMongo) (2.10)\n",
      "Requirement already satisfied: click>=5.1 in c:\\users\\jawhite\\appdata\\local\\continuum\\anaconda3\\lib\\site-packages (from Flask>=0.11->Flask-PyMongo) (6.7)\n",
      "Requirement already satisfied: Werkzeug>=0.14 in c:\\users\\jawhite\\appdata\\local\\continuum\\anaconda3\\lib\\site-packages (from Flask>=0.11->Flask-PyMongo) (0.14.1)\n",
      "Requirement already satisfied: itsdangerous>=0.24 in c:\\users\\jawhite\\appdata\\local\\continuum\\anaconda3\\lib\\site-packages (from Flask>=0.11->Flask-PyMongo) (0.24)\n",
      "Requirement already satisfied: MarkupSafe>=0.23 in c:\\users\\jawhite\\appdata\\local\\continuum\\anaconda3\\lib\\site-packages (from Jinja2>=2.10->Flask>=0.11->Flask-PyMongo) (1.0)\n",
      "Installing collected packages: Flask-PyMongo\n",
      "Successfully installed Flask-PyMongo-2.2.0\n"
     ]
    },
    {
     "name": "stderr",
     "output_type": "stream",
     "text": [
      "twisted 18.7.0 requires PyHamcrest>=1.9.0, which is not installed.\n",
      "You are using pip version 10.0.1, however version 19.0.3 is available.\n",
      "You should consider upgrading via the 'python -m pip install --upgrade pip' command.\n"
     ]
    }
   ],
   "source": [
    "!pip install Flask-PyMongo"
   ]
  },
  {
   "cell_type": "code",
   "execution_count": 94,
   "metadata": {},
   "outputs": [],
   "source": [
    "from bs4 import BeautifulSoup\n",
    "import requests\n",
    "from splinter import Browser\n",
    "import pandas as pd\n",
    "from splinter.exceptions import ElementDoesNotExist\n",
    "\n",
    "url=\"https://mars.nasa.gov/news/\"\n",
    "\n",
    "response = requests.get(url)\n",
    "\n",
    "soup = BeautifulSoup(response.text, 'html.parser')\n",
    "\n"
   ]
  },
  {
   "cell_type": "code",
   "execution_count": 95,
   "metadata": {},
   "outputs": [],
   "source": [
    "list_title=soup.find_all(class_=\"slide\")\n"
   ]
  },
  {
   "cell_type": "code",
   "execution_count": 96,
   "metadata": {},
   "outputs": [],
   "source": [
    "list_help=list_title[0]\n",
    "\n",
    "news_p=list_help.div.div.div.text\n",
    "\n",
    "news_title=soup.find_all(class_=\"content_title\")[0].a.text"
   ]
  },
  {
   "cell_type": "code",
   "execution_count": 97,
   "metadata": {},
   "outputs": [],
   "source": [
    "####This is the section for the splinter####\n",
    "executable_path = {'executable_path': 'chromedriver.exe'}\n",
    "browser = Browser('chrome', **executable_path, headless=False)"
   ]
  },
  {
   "cell_type": "code",
   "execution_count": 98,
   "metadata": {},
   "outputs": [],
   "source": [
    "mars_visit_url=\"https://www.jpl.nasa.gov/spaceimages/?search=&category=Mars\"\n",
    "browser.visit(mars_visit_url)"
   ]
  },
  {
   "cell_type": "code",
   "execution_count": 99,
   "metadata": {},
   "outputs": [],
   "source": [
    "html = browser.html\n",
    "mars_soup = BeautifulSoup(html, 'html.parser')\n",
    "help_space=mars_soup.find('a',class_='button fancybox')['data-fancybox-href']\n",
    "featured_image_url =\"https://www.jpl.nasa.gov\"+help_space"
   ]
  },
  {
   "cell_type": "code",
   "execution_count": 100,
   "metadata": {},
   "outputs": [],
   "source": [
    "#### Mars Weather Tweet ####\n",
    "mars_w_twitter=\"https://twitter.com/marswxreport?lang=en\"\n",
    "browser.visit(mars_w_twitter)\n",
    "html_tweet=browser.html\n",
    "mars_tweet_soup=BeautifulSoup(html_tweet,'html.parser')\n",
    "#help_weather=mars_tweet_soup.find_all('li',class_=\"js-stream-item stream-item stream-item\")\n",
    "help_weather=mars_tweet_soup.find('ol',class_=\"stream-items js-navigable-stream\")\n",
    "#help_weather=mars_tweet_soup.find('li',class_=\"TweetTextSize TweetTextSize--normal js-tweet-text tweet-text\")\n",
    "mars_weather=help_weather.li.div.p.text"
   ]
  },
  {
   "cell_type": "code",
   "execution_count": 101,
   "metadata": {},
   "outputs": [],
   "source": [
    "####Mars Facts####\n",
    "mars_facts_url=\"https://space-facts.com/mars/\"\n",
    "mars_facts_table=pd.read_html(mars_facts_url)\n"
   ]
  },
  {
   "cell_type": "code",
   "execution_count": 102,
   "metadata": {},
   "outputs": [],
   "source": [
    "mars_facts_html=mars_facts_table[0].to_html()"
   ]
  },
  {
   "cell_type": "code",
   "execution_count": 121,
   "metadata": {},
   "outputs": [
    {
     "name": "stdout",
     "output_type": "stream",
     "text": [
      "[{'title': 'Cerberus Hemisphere Enhanced', 'img_url': 'http://astropedia.astrogeology.usgs.gov/download/Mars/Viking/cerberus_enhanced.tif/full.jpg'}, {'title': 'Schiaparelli Hemisphere Enhanced', 'img_url': 'http://astropedia.astrogeology.usgs.gov/download/Mars/Viking/schiaparelli_enhanced.tif/full.jpg'}, {'title': 'Syrtis Major Hemisphere Enhanced', 'img_url': 'http://astropedia.astrogeology.usgs.gov/download/Mars/Viking/syrtis_major_enhanced.tif/full.jpg'}, {'title': 'Valles Marineris Hemisphere Enhanced', 'img_url': 'http://astropedia.astrogeology.usgs.gov/download/Mars/Viking/valles_marineris_enhanced.tif/full.jpg'}]\n"
     ]
    }
   ],
   "source": [
    "####Mars Hemispheres####\n",
    "hemisphere_url = 'https://astrogeology.usgs.gov/search/results?q=hemisphere+enhanced&k1=target&v1=Mars'\n",
    "browser.visit(hemisphere_url)\n",
    "\n",
    "hemisphere_html = browser.html\n",
    "soup = BeautifulSoup(hemisphere_html, 'html.parser')\n",
    "\n",
    "search_results = soup.find_all('div', class_='item')\n",
    "\n",
    "hemisphere_image_urls=[]\n",
    "hemisphere_titles_list=[]\n",
    "url_list=[]\n",
    "\n",
    "for result in search_results:\n",
    "    url_list.append(result.div.a['href'])\n",
    "    hemisphere_titles_list.append(result.h3.text)#.split()[0]+\" \"+test_link.h3.text.split()[1])\n",
    "\n",
    "hemisphere_url_list = ['https://astrogeology.usgs.gov' + url for url in url_list]\n",
    "\n",
    "titles_and_urls = zip(hemisphere_titles_list, hemisphere_url_list)\n",
    "counter=0\n",
    "\n",
    "\n",
    "try:\n",
    "    for title_url in titles_and_urls:\n",
    "        browser.click_link_by_partial_text(hemisphere_titles_list[counter])\n",
    "        temp_soup=BeautifulSoup(browser.html,'html.parser')\n",
    "        test_find=temp_soup.find_all('ul')\n",
    "        hemisphere_image_urls.append({'title':hemisphere_titles_list[counter],'img_url':test_find[-2].li.a['href']})\n",
    "        browser.visit(hemisphere_url)\n",
    "        counter+=1\n",
    "except ElementDoesNotExist:\n",
    "    print(\"Scraping Complete\")\n",
    "    \n",
    "###completed getting the dictionary###"
   ]
  },
  {
   "cell_type": "code",
   "execution_count": null,
   "metadata": {},
   "outputs": [],
   "source": []
  }
 ],
 "metadata": {
  "kernelspec": {
   "display_name": "Python 3",
   "language": "python",
   "name": "python3"
  },
  "language_info": {
   "codemirror_mode": {
    "name": "ipython",
    "version": 3
   },
   "file_extension": ".py",
   "mimetype": "text/x-python",
   "name": "python",
   "nbconvert_exporter": "python",
   "pygments_lexer": "ipython3",
   "version": "3.7.0"
  }
 },
 "nbformat": 4,
 "nbformat_minor": 2
}
